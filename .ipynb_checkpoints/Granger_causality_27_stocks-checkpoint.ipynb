{
 "cells": [
  {
   "cell_type": "code",
   "execution_count": 6,
   "id": "12b9ec1d",
   "metadata": {},
   "outputs": [],
   "source": [
    "from pandas_datareader import data, wb\n",
    "import pandas as pd\n",
    "import numpy as np\n",
    "import datetime\n",
    "import matplotlib.pyplot as plt\n",
    "import seaborn as sns\n",
    "from statsmodels.tsa.stattools import grangercausalitytests\n",
    "sns.set_style('whitegrid')\n",
    "%matplotlib inline"
   ]
  },
  {
   "cell_type": "markdown",
   "id": "61cc9e1b",
   "metadata": {},
   "source": [
    "### Download stock prices of 27 big US companies"
   ]
  },
  {
   "cell_type": "code",
   "execution_count": 2,
   "id": "3644e1ef",
   "metadata": {},
   "outputs": [],
   "source": [
    "start = datetime.datetime(2000, 1, 1)\n",
    "end = datetime.datetime(2022, 1, 24)\n",
    "\n",
    "tickers = ['AAPL', 'AMGN', 'AXP', 'BA', 'CAT', 'CSCO', 'CVX','DIS','GS','HD','HON','IBM','INTC','JNJ','JPM','KO','MCD'\n",
    "          ,'MRK','MMM','MSFT','NKE','PG','TRV','UNH','VZ','WBA','WMT']\n",
    "\n",
    "\n",
    "Companies = []\n",
    "for company in tickers:\n",
    "    Companies.append(data.DataReader(company, 'yahoo', start, end))\n",
    "\n"
   ]
  },
  {
   "cell_type": "markdown",
   "id": "d7ce9c05",
   "metadata": {},
   "source": [
    "### Concatanate all the stocks into a single dataframe"
   ]
  },
  {
   "cell_type": "code",
   "execution_count": 3,
   "id": "e75d6a1a",
   "metadata": {},
   "outputs": [
    {
     "data": {
      "text/html": [
       "<div>\n",
       "<style scoped>\n",
       "    .dataframe tbody tr th:only-of-type {\n",
       "        vertical-align: middle;\n",
       "    }\n",
       "\n",
       "    .dataframe tbody tr th {\n",
       "        vertical-align: top;\n",
       "    }\n",
       "\n",
       "    .dataframe thead tr th {\n",
       "        text-align: left;\n",
       "    }\n",
       "\n",
       "    .dataframe thead tr:last-of-type th {\n",
       "        text-align: right;\n",
       "    }\n",
       "</style>\n",
       "<table border=\"1\" class=\"dataframe\">\n",
       "  <thead>\n",
       "    <tr>\n",
       "      <th>Company Ticker</th>\n",
       "      <th colspan=\"6\" halign=\"left\">AAPL</th>\n",
       "      <th colspan=\"4\" halign=\"left\">AMGN</th>\n",
       "      <th>...</th>\n",
       "      <th colspan=\"4\" halign=\"left\">WBA</th>\n",
       "      <th colspan=\"6\" halign=\"left\">WMT</th>\n",
       "    </tr>\n",
       "    <tr>\n",
       "      <th>Stock Info</th>\n",
       "      <th>High</th>\n",
       "      <th>Low</th>\n",
       "      <th>Open</th>\n",
       "      <th>Close</th>\n",
       "      <th>Volume</th>\n",
       "      <th>Adj Close</th>\n",
       "      <th>High</th>\n",
       "      <th>Low</th>\n",
       "      <th>Open</th>\n",
       "      <th>Close</th>\n",
       "      <th>...</th>\n",
       "      <th>Open</th>\n",
       "      <th>Close</th>\n",
       "      <th>Volume</th>\n",
       "      <th>Adj Close</th>\n",
       "      <th>High</th>\n",
       "      <th>Low</th>\n",
       "      <th>Open</th>\n",
       "      <th>Close</th>\n",
       "      <th>Volume</th>\n",
       "      <th>Adj Close</th>\n",
       "    </tr>\n",
       "    <tr>\n",
       "      <th>Date</th>\n",
       "      <th></th>\n",
       "      <th></th>\n",
       "      <th></th>\n",
       "      <th></th>\n",
       "      <th></th>\n",
       "      <th></th>\n",
       "      <th></th>\n",
       "      <th></th>\n",
       "      <th></th>\n",
       "      <th></th>\n",
       "      <th></th>\n",
       "      <th></th>\n",
       "      <th></th>\n",
       "      <th></th>\n",
       "      <th></th>\n",
       "      <th></th>\n",
       "      <th></th>\n",
       "      <th></th>\n",
       "      <th></th>\n",
       "      <th></th>\n",
       "      <th></th>\n",
       "    </tr>\n",
       "  </thead>\n",
       "  <tbody>\n",
       "    <tr>\n",
       "      <th>2000-01-03</th>\n",
       "      <td>1.004464</td>\n",
       "      <td>0.907924</td>\n",
       "      <td>0.936384</td>\n",
       "      <td>0.999442</td>\n",
       "      <td>535796800.0</td>\n",
       "      <td>0.853356</td>\n",
       "      <td>70.0000</td>\n",
       "      <td>62.8750</td>\n",
       "      <td>70.0000</td>\n",
       "      <td>62.9375</td>\n",
       "      <td>...</td>\n",
       "      <td>28.5000</td>\n",
       "      <td>28.5625</td>\n",
       "      <td>2095900.0</td>\n",
       "      <td>18.991266</td>\n",
       "      <td>69.0000</td>\n",
       "      <td>65.5000</td>\n",
       "      <td>68.375</td>\n",
       "      <td>66.8125</td>\n",
       "      <td>8369900.0</td>\n",
       "      <td>44.386993</td>\n",
       "    </tr>\n",
       "    <tr>\n",
       "      <th>2000-01-04</th>\n",
       "      <td>0.987723</td>\n",
       "      <td>0.903460</td>\n",
       "      <td>0.966518</td>\n",
       "      <td>0.915179</td>\n",
       "      <td>512377600.0</td>\n",
       "      <td>0.781409</td>\n",
       "      <td>64.1250</td>\n",
       "      <td>57.6875</td>\n",
       "      <td>62.0000</td>\n",
       "      <td>58.1250</td>\n",
       "      <td>...</td>\n",
       "      <td>27.8125</td>\n",
       "      <td>27.5000</td>\n",
       "      <td>1709100.0</td>\n",
       "      <td>18.284817</td>\n",
       "      <td>65.8125</td>\n",
       "      <td>64.1875</td>\n",
       "      <td>65.500</td>\n",
       "      <td>64.3125</td>\n",
       "      <td>6745100.0</td>\n",
       "      <td>42.726086</td>\n",
       "    </tr>\n",
       "    <tr>\n",
       "      <th>2000-01-05</th>\n",
       "      <td>0.987165</td>\n",
       "      <td>0.919643</td>\n",
       "      <td>0.926339</td>\n",
       "      <td>0.928571</td>\n",
       "      <td>778321600.0</td>\n",
       "      <td>0.792844</td>\n",
       "      <td>60.6875</td>\n",
       "      <td>58.2500</td>\n",
       "      <td>59.1875</td>\n",
       "      <td>60.1250</td>\n",
       "      <td>...</td>\n",
       "      <td>27.7500</td>\n",
       "      <td>27.8125</td>\n",
       "      <td>2167800.0</td>\n",
       "      <td>18.492598</td>\n",
       "      <td>64.3750</td>\n",
       "      <td>62.1875</td>\n",
       "      <td>63.875</td>\n",
       "      <td>63.0000</td>\n",
       "      <td>7018700.0</td>\n",
       "      <td>41.854153</td>\n",
       "    </tr>\n",
       "  </tbody>\n",
       "</table>\n",
       "<p>3 rows × 162 columns</p>\n",
       "</div>"
      ],
      "text/plain": [
       "Company Ticker      AAPL                                                       \\\n",
       "Stock Info          High       Low      Open     Close       Volume Adj Close   \n",
       "Date                                                                            \n",
       "2000-01-03      1.004464  0.907924  0.936384  0.999442  535796800.0  0.853356   \n",
       "2000-01-04      0.987723  0.903460  0.966518  0.915179  512377600.0  0.781409   \n",
       "2000-01-05      0.987165  0.919643  0.926339  0.928571  778321600.0  0.792844   \n",
       "\n",
       "Company Ticker     AMGN                             ...      WBA           \\\n",
       "Stock Info         High      Low     Open    Close  ...     Open    Close   \n",
       "Date                                                ...                     \n",
       "2000-01-03      70.0000  62.8750  70.0000  62.9375  ...  28.5000  28.5625   \n",
       "2000-01-04      64.1250  57.6875  62.0000  58.1250  ...  27.8125  27.5000   \n",
       "2000-01-05      60.6875  58.2500  59.1875  60.1250  ...  27.7500  27.8125   \n",
       "\n",
       "Company Ticker                            WMT                            \\\n",
       "Stock Info         Volume  Adj Close     High      Low    Open    Close   \n",
       "Date                                                                      \n",
       "2000-01-03      2095900.0  18.991266  69.0000  65.5000  68.375  66.8125   \n",
       "2000-01-04      1709100.0  18.284817  65.8125  64.1875  65.500  64.3125   \n",
       "2000-01-05      2167800.0  18.492598  64.3750  62.1875  63.875  63.0000   \n",
       "\n",
       "Company Ticker                        \n",
       "Stock Info         Volume  Adj Close  \n",
       "Date                                  \n",
       "2000-01-03      8369900.0  44.386993  \n",
       "2000-01-04      6745100.0  42.726086  \n",
       "2000-01-05      7018700.0  41.854153  \n",
       "\n",
       "[3 rows x 162 columns]"
      ]
     },
     "execution_count": 3,
     "metadata": {},
     "output_type": "execute_result"
    }
   ],
   "source": [
    "Stocks = pd.concat(Companies,axis=1,keys=tickers)\n",
    "Stocks.columns.names = ['Company Ticker','Stock Info']\n",
    "Stocks.head(3)"
   ]
  },
  {
   "cell_type": "markdown",
   "id": "442f15bc",
   "metadata": {},
   "source": [
    "### Make a dataframe with the log_return of the close prices"
   ]
  },
  {
   "cell_type": "code",
   "execution_count": 4,
   "id": "97563a87",
   "metadata": {},
   "outputs": [],
   "source": [
    "LogReturn_df = pd.DataFrame()\n",
    "\n",
    "for ticker in tickers:\n",
    "    LogReturn_df[ticker] = np.log(Stocks[ticker]['Close']).diff()\n",
    "LogReturn_df.dropna(inplace=True)"
   ]
  },
  {
   "cell_type": "markdown",
   "id": "054756a2",
   "metadata": {},
   "source": [
    "### Look for Granger causality interaction between stocks in different time windows. \n",
    "#### I chose the lage time of 5 days, and the p-values is 0.05 for the significant level "
   ]
  },
  {
   "cell_type": "code",
   "execution_count": 7,
   "id": "54294155",
   "metadata": {},
   "outputs": [],
   "source": [
    "Max_T = LogReturn_df.shape[0]\n",
    "N=int(Max_T / 63)\n",
    "maxlag=5\n",
    "test = 'ssr_chi2test'\n",
    "Causal_p_Matrix={}\n",
    "\n",
    "for l in range(N-1):\n",
    "    Causal_p_Matrix[l]=np.zeros((27,27))\n",
    "    \n",
    "    df=LogReturn_df.iloc[l*63:252+l*63]\n",
    "    \n",
    "    for i in range(27):\n",
    "        comp1 = tickers[i]\n",
    "        for j in range(27):\n",
    "            comp2 = tickers[j]\n",
    "            gc_res=grangercausalitytests(df[[comp1,comp2]],maxlag, verbose=False);\n",
    "            p_values = [round(gc_res[k+1][0][test][1],4) for k in range(maxlag)];\n",
    "            min_p_value = np.min(p_values);\n",
    "            Causal_p_Matrix[l][i][j]=min_p_value;\n",
    "            \n",
    "\n",
    "Causal_Matrix={}\n",
    "for l in range(N-1):            \n",
    "    Causal_Matrix[l]=np.zeros((27,27))\n",
    "    for i in range(27):\n",
    "        for j in range(27):\n",
    "            if Causal_p_Matrix[l][i][j]<0.05:\n",
    "                Causal_Matrix[l][i][j]=1\n",
    "            else:\n",
    "                Causal_Matrix[l][i][j]=0              \n",
    "            \n",
    "Date = []\n",
    "Mean_causality=[]\n",
    "for l in range(N-1):    \n",
    "    Date.append(LogReturn_df.iloc[l*63:252+l*63].index[126])\n",
    "    Mean_causality.append(np.mean(Causal_Matrix[l]))    \n",
    "    "
   ]
  },
  {
   "cell_type": "markdown",
   "id": "8e5a0f92",
   "metadata": {},
   "source": [
    "### plot the heatmap of the causality matrix in two different time windows"
   ]
  },
  {
   "cell_type": "code",
   "execution_count": 8,
   "id": "b180caa7",
   "metadata": {},
   "outputs": [
    {
     "data": {
      "image/png": "[encoded data removed]",
      "text/plain": [
       "<Figure size 1080x432 with 2 Axes>"
      ]
     },
     "metadata": {
      "needs_background": "light"
     },
     "output_type": "display_data"
    }
   ],
   "source": [
    "fig, axes = plt.subplots(1, 2, figsize=(15, 6))\n",
    "sns.heatmap(Causal_Matrix[76],xticklabels=tickers, yticklabels=tickers,cmap='binary' ,ax=axes[0],cbar=False)\n",
    "axes[0].set_title(\"2019/01/16 - 2020/01/15 \", size=14)\n",
    "\n",
    "sns.heatmap(Causal_Matrix[77],xticklabels=tickers, yticklabels=tickers, cmap='binary',ax=axes[1],cbar=False)\n",
    "axes[1].set_title(\"2019/04/07 - 2020/04/16 \",size=14)\n",
    "\n",
    "plt.show()\n"
   ]
  },
  {
   "cell_type": "markdown",
   "id": "e73ae995",
   "metadata": {},
   "source": [
    "### The dynamics of the average causality between 27 stocks in the last 20 years"
   ]
  },
  {
   "cell_type": "code",
   "execution_count": 9,
   "id": "ccc6a1a2",
   "metadata": {},
   "outputs": [
    {
     "data": {
      "text/plain": [
       "<AxesSubplot:xlabel='date'>"
      ]
     },
     "execution_count": 9,
     "metadata": {},
     "output_type": "execute_result"
    },
    {
     "data": {
      "image/png": "[encoded data removed]",
      "text/plain": [
       "<Figure size 1008x432 with 1 Axes>"
      ]
     },
     "metadata": {
      "needs_background": "light"
     },
     "output_type": "display_data"
    }
   ],
   "source": [
    "date_MeanCausality = list(zip(Date,Mean_causality))  \n",
    "df_ave_Causality = pd.DataFrame(date_MeanCausality, columns=['date','Causality'])  \n",
    "\n",
    "df_ave_Causality.to_csv('Mean_Causality_USA.csv')\n",
    "\n",
    "df_ave_Causality=df_ave_Causality.set_index('date')\n",
    "df_ave_Causality.plot(figsize=(14,6),marker='o')"
   ]
  },
  {
   "cell_type": "code",
   "execution_count": null,
   "id": "96e3fd83",
   "metadata": {},
   "outputs": [],
   "source": []
  }
 ],
 "metadata": {
  "kernelspec": {
   "display_name": "Python 3 (ipykernel)",
   "language": "python",
   "name": "python3"
  },
  "language_info": {
   "codemirror_mode": {
    "name": "ipython",
    "version": 3
   },
   "file_extension": ".py",
   "mimetype": "text/x-python",
   "name": "python",
   "nbconvert_exporter": "python",
   "pygments_lexer": "ipython3",
   "version": "3.9.7"
  }
 },
 "nbformat": 4,
 "nbformat_minor": 5
}
